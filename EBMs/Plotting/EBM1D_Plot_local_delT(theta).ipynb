{
 "cells": [
  {
   "cell_type": "code",
   "execution_count": null,
   "metadata": {},
   "outputs": [],
   "source": [
    "import numpy as np\n",
    "import matplotlib.pyplot as plt\n",
    "%matplotlib inline\n",
    "import xarray as xr\n",
    "\n",
    "fs=20\t\t\t\t\t\t#fontsize for labels, legend, ...\n",
    "font={'family' : 'serif', 'size' : fs}\t\t#define font for legend\n",
    "plt.rc('font', **font)\t"
   ]
  },
  {
   "cell_type": "code",
   "execution_count": null,
   "metadata": {},
   "outputs": [],
   "source": [
    "def area_mean(x):\n",
    "    weights=np.cos(lats*np.pi/180)\n",
    "    return sum(weights*x)/sum(weights)"
   ]
  },
  {
   "cell_type": "markdown",
   "metadata": {},
   "source": [
    "# EBM Without Ice"
   ]
  },
  {
   "cell_type": "code",
   "execution_count": null,
   "metadata": {},
   "outputs": [],
   "source": [
    "lats_star=np.linspace(-90, 90, num=181)\n",
    "x_star=np.sin(lats_star*np.pi/180)\n",
    "lats=(lats_star[:-1]+ lats_star[1:])/2\n",
    "x=np.sin(lats*np.pi/180.)\n",
    "dx=np.diff(x)\n",
    "dx_star=np.diff(x_star)"
   ]
  },
  {
   "cell_type": "code",
   "execution_count": null,
   "metadata": {},
   "outputs": [],
   "source": [
    "A=-388.74   #W/m^2 for T in Kelvin (note: A_degC = 210 (in Brian Rose Lecture) =? 273.15 * B + A_K)\n",
    "B=2.17      #W/m^2 /K\n",
    "C=4e7       #J/K for either whole atmosphere or 10m water\n",
    "D=0.55      #Diffusion parameter = m^2/s getuned\n",
    "Q=1361./4*(1-0.477*0.5*(3*x**2-1))  #solar insolation (lats) in W/m^2\n",
    "alpha=0.3   #constant albedo TODO: change to non-constant\n",
    "print(\"This should reproduce S0: \",area_mean(Q*4))"
   ]
  },
  {
   "cell_type": "code",
   "execution_count": null,
   "metadata": {},
   "outputs": [],
   "source": [
    "def calc_diff(T):\n",
    "    F=-D*np.diff(T)/dx \n",
    "    F=np.insert(F,0,0.) #Boundary_condition South Pole F=0\n",
    "    F=np.append(F,0.)   #Boundary condition North Pole F=0\n",
    "    diffusion=-np.diff(F * (1-x_star**2))/dx_star\n",
    "    return diffusion, F"
   ]
  },
  {
   "cell_type": "code",
   "execution_count": null,
   "metadata": {},
   "outputs": [],
   "source": [
    "def get_P_hum_distribution(P_glob=0.034):\n",
    "    a=0.16180316; b= 39.67767011; c=16.63696653\n",
    "    dist= a*np.exp(-(lats-b)**2/c**2)\n",
    "    fit_glob=area_mean(dist)\n",
    "    fit_normalized=P_glob/fit_glob*dist\n",
    "    test_P_glob=area_mean(fit_normalized)\n",
    "    return fit_normalized\n",
    "P_hum_dist=get_P_hum_distribution(P_glob=0.34)"
   ]
  },
  {
   "cell_type": "code",
   "execution_count": null,
   "metadata": {},
   "outputs": [],
   "source": [
    "P_hum0034=get_P_hum_distribution(P_glob=0.034)\n",
    "nr_years=15.\n",
    "dt=3600.*1. #s \n",
    "N=int(nr_years*365*3600*24/dt)\n",
    "T=np.array([288 for item in lats])\n",
    "T_D0=np.array([288 for item in lats])\n",
    "\n",
    "for i in range(0,N):\n",
    "    diffusion, F= calc_diff(T)\n",
    "    dTdt=Q*(1-alpha) - (A+B*T) + diffusion + P_hum0034\n",
    "    dTdt_noD=Q*(1-alpha) - (A+B*T_D0) + P_hum0034\n",
    "    T=T+ dt/C * (dTdt)\n",
    "    T_D0=T_D0+dt/C* (dTdt_noD)\n",
    "    "
   ]
  },
  {
   "cell_type": "code",
   "execution_count": null,
   "metadata": {},
   "outputs": [],
   "source": [
    "P_hum034=get_P_hum_distribution(P_glob=0.34)\n",
    "\n",
    "T_P=np.array([288 for item in lats])\n",
    "T_P_D0=np.array([288 for item in lats])\n",
    "for i in range(0,N):\n",
    "    diffusion, F= calc_diff(T_P)\n",
    "    dTdt=Q*(1-alpha) - (A+B*T_P) + diffusion  + P_hum034\n",
    "    dTdt_D0=Q*(1-alpha) - (A+B*T_P_D0)  + P_hum034\n",
    "    T_P = T_P+ dt/C * (dTdt)\n",
    "    T_P_D0 = T_P_D0+ dt/C * (dTdt_D0)\n",
    "\n",
    "plt.plot(lats, T_P-T, '-o', label='No Ice, D=0.55')\n",
    "plt.plot(lats, T_P_D0-T_D0, '-x', label='No Ice, D=0')\n",
    "print(area_mean(T_P-T))"
   ]
  },
  {
   "cell_type": "markdown",
   "metadata": {},
   "source": [
    "# WITH ICE\n",
    "Import the simulated data, actually this is for t=116 and hence P=0.338... but whatever"
   ]
  },
  {
   "cell_type": "code",
   "execution_count": null,
   "metadata": {},
   "outputs": [],
   "source": [
    "#data=np.loadtxt(\"/home/peter/PIK/Woche KW4/EBM_to_cluster/15yr_3/\"+\"data_T_time_Tf10_georg_T.txt\")\n",
    "#data1=np.loadtxt(\"/home/peter/PIK/Woche KW4/EBM_to_cluster/15yr_Boltz/\"+\"data_T_time_Tf10_georg_T.txt\")\n",
    "#data2=np.loadtxt(\"/home/peter/PIK/Woche KW4/EBM_to_cluster/15yr_smallD_gaussP/\"+\"data_T_time_Tf10_georg_T.txt\")\n",
    "#data2=np.loadtxt(\"/home/peter/PIK/Woche KW4/EBM_to_cluster/15yr_smallDTUNED/\"+\"data_T_time_Tf10_dyn_georg_T.txt\")\n",
    "#data3=np.loadtxt(\"/home/peter/PIK/Woche KW4/EBM_to_cluster/15yr_Boltz_smallDTUNED/\"+\"data_T_time_Tf10_dyn_georg_T.txt\")\n",
    "##NOTE: SMALL D GAUSS IS NOT GAUSS????#\n",
    "#\n",
    "#T_034_10_georg=data[116,:]\n",
    "#T_0034_10_georg=data[0,:]\n",
    "#\n",
    "#T_034_10_boltz=data1[116,:]\n",
    "#T_0034_10_boltz=data1[0,:]\n",
    "#\n",
    "#T_034_10_smallD_G=data2[116,:]\n",
    "#T_0034_10_smallD_G=data2[0,:]\n",
    "#\n",
    "#T_034_10_smallD_boltz=data3[116,:]\n",
    "#T_0034_10_smallD_boltz=data3[0,:]"
   ]
  },
  {
   "cell_type": "code",
   "execution_count": null,
   "metadata": {},
   "outputs": [],
   "source": [
    "folder=\"/home/peter/PIK/EBM_equilibrium/BsD-10G/\"\n",
    "data=np.loadtxt(folder+\"BsD-10G_T_over_theta0.034.txt\")\n",
    "T_0034_10_smallD_boltz=data[:]\n",
    "data=np.loadtxt(folder+\"BsD-10G_T_over_theta0.34.txt\")\n",
    "T_034_10_smallD_boltz=data[:]\n",
    "\n",
    "folder=\"/home/peter/PIK/EBM_equilibrium/LMsD-10G/\"\n",
    "data=np.loadtxt(folder+\"LMsD-10G_T_over_theta0.034.txt\")\n",
    "T_0034_10_smallD_G=data[:]\n",
    "data=np.loadtxt(folder+\"LMsD-10G_T_over_theta0.34.txt\")\n",
    "T_034_10_smallD_G=data[:]\n",
    "\n",
    "folder=\"/home/peter/PIK/EBM_equilibrium/LMD-10G/\"\n",
    "data=np.loadtxt(folder+\"LMD-10G_T_over_theta0.034.txt\")\n",
    "T_0034_10_LM=data[:]\n",
    "data=np.loadtxt(folder+\"LMD-10G_T_over_theta0.34.txt\")\n",
    "T_034_10_LM=data[:]\n",
    "\n",
    "folder=\"/home/peter/PIK/EBM_equilibrium/BD-10G/\"\n",
    "data=np.loadtxt(folder+\"BD-10G_T_over_theta0.034.txt\")\n",
    "T_0034_10_boltz=data[:]\n",
    "data=np.loadtxt(folder+\"BD-10G_T_over_theta0.34.txt\")\n",
    "T_034_10_boltz=data[:]\n",
    "\n",
    "#folder=\"/home/peter/PIK/EBM_equilibrium/LMsD-2G/\"\n",
    "#data=np.loadtxt(folder+\"LMsD-2G_T_over_theta0.034.txt\")\n",
    "#T_0034_2_smallD_G=data[:]\n",
    "#data=np.loadtxt(folder+\"LMsD-2G_T_over_theta0.34.txt\")\n",
    "#T_034_2_smallD_G=data[:]"
   ]
  },
  {
   "cell_type": "code",
   "execution_count": null,
   "metadata": {},
   "outputs": [],
   "source": [
    "fig=plt.figure(figsize=(16,9))\n",
    "ax=fig.add_subplot(111)\n",
    "ax.plot(lats,T_034_10_LM-T_0034_10_LM, '-', lw=4, color='red', \n",
    "        label='$LMD_{-10}$ (with $D=0.418$)')\n",
    "#        label='With ice for $T<T_f=-10^\\circ C$, (Mcguffie and Hendersson-Sellers, 2014), $D=0.42$')\n",
    "ax.plot(lats,T_034_10_smallD_G-T_0034_10_smallD_G, '-', lw=4, color='orange', \n",
    "        label='$LMsD_{-10}$ (with $D=0.395$)')\n",
    "#        label='With ice for $T<T_f=-10^\\circ C$, (Mcguffie and Hendersson-Sellers, 2014), $D=0.39$')\n",
    "#ax.plot(lats,T_034_2_smallD_G-T_0034_2_smallD_G, '-', lw=4, color='orange', \n",
    "#        label='$LMsD_{-2}$ (with $D=0.792$)')\n",
    "##        label='With ice for $T<T_f=-10^\\circ C$, (Mcguffie and Hendersson-Sellers, 2014), $D=0.39$')\n",
    "ax.plot(lats,T_034_10_boltz-T_0034_10_boltz, '-', lw=4, color='darkgreen',\n",
    "        label='$BD_{-10}$ (with $D=0.316$)')\n",
    "#        label='With ice for $T<T_f=-10^\\circ C$, Boltzmann, $D=0.32$')\n",
    "#ax.plot(lats,T_034_10_smallD_M-T_0034_10_smallD_M, '-', lw=4, color='orange', label='Ice at $T_f=-10^\\circ C$, LM, $D=0.34$')\n",
    "\n",
    "ax.plot(lats,T_034_10_smallD_boltz-T_0034_10_smallD_boltz, '-', lw=4, color='lime', \n",
    "        label='$BsD_{-10}$ (with $D=0.281$)')\n",
    "ax.plot(lats, T_P-T, '--', color='darkblue', lw=3, label='EBM-1D no ice, $D=0.55$')\n",
    "ax.plot(lats, T_P_D0-T_D0, '--',color='c', lw=3, label='EBM-1D no ice, $D=0$')\n",
    "ax.set_xlabel(r\"Latitudes $\\theta$ in $^\\circ$\")\n",
    "ax.set_xticks(np.arange(-90, 91, step=30))\n",
    "ax.set_xlim(-90,90)\n",
    "ax.set_ylabel(r\"$ \\Delta T (\\theta)  [{\\rm K}]$\")\n",
    "ax.yaxis.tick_right()\n",
    "ax.yaxis.set_label_position(\"right\")\n",
    "\n",
    "left, bottom, width, height = [0.45, 0.5, 0.25, 0.25]\n",
    "ax2 = fig.add_axes([left, bottom, width, height])\n",
    "ax2.set_yticks(ax2.get_yticks(), minor=True)\n",
    "#ax2.grid(b=True, which='minor')\n",
    "ax2.set_xticks([-90,0,90])\n",
    "#ax2.axis.xticks.params(labelsize=12)\n",
    "ax2.plot(lats, T_034_10_LM, '-r', label=r'$P=0.34 \\, {\\rm W/m^2}$')\n",
    "ax2.plot(lats, T_0034_10_LM, ':r', label=r'$P=0.034\\, {\\rm W/m^2}$')\n",
    "ax2.minorticks_on()\n",
    "ax2.grid(b=True, which='major')\n",
    "ax2.grid(b=True, which='minor', alpha=0.4)\n",
    "ax2.set_ylabel(r\"$T\\, [{\\rm K}]$\", rotation=360)\n",
    "ax2.yaxis.set_label_coords(-0.025, 1.025)\n",
    "ax2.legend(fontsize=17, loc=(0.65, 0.85))\n",
    "ax2.tick_params(axis='both', labelsize=19)\n",
    "ax.grid()\n",
    "ax.legend()\n",
    "ax.set_title(r\"Temperature change over latitudes due to $\\langle P_{\\rm hum}\\rangle_\\theta=0.34\\, {\\rm W/m^2}$ (${\\rm G_F}$)\"+'\\n'+\"for different EBM-1D model settings\")\n",
    "print(area_mean(T_034_10_LM-T_0034_10_LM))\n",
    "#plt.tight_layout()\n",
    "ax.arrow(42,1.58, 63-(42),1.54-1.54 , head_width=0.1, head_length=2,color='red')\n",
    "plt.savefig(\"delT(theta)_Tf-10_different_models.png\")"
   ]
  },
  {
   "cell_type": "code",
   "execution_count": null,
   "metadata": {},
   "outputs": [],
   "source": [
    "fig=plt.figure(figsize=(16,9))\n",
    "ax=fig.add_subplot(111)\n",
    "\n",
    "ax.plot(lats,T_034_10_boltz-T_0034_10_boltz, '-', lw=4, color='green',\n",
    "        label='larger $D$ (thesis: $BD_{-10}$)')\n",
    "ax.plot(lats,T_034_10_smallD_boltz-T_0034_10_smallD_boltz, '-', lw=4, color='blue', \n",
    "        label='smaller $D$ (thesis: $BsD_{-10}$), no ice loss in this case')\n",
    "ax.set_xlabel(r\"Latitudes $\\theta$ in $^\\circ$\")\n",
    "ax.set_xticks(np.arange(-90, 91, step=30))\n",
    "ax.set_xlim(-90,90)\n",
    "ax.set_ylabel(\"$\\Delta T (\\phi)  [K]$\")\n",
    "ax.yaxis.tick_right()\n",
    "ax.yaxis.set_label_position(\"right\")\n",
    "\n",
    "left, bottom, width, height = [0.1, 0.35, 0.25, 0.25]\n",
    "ax2 = fig.add_axes([left, bottom, width, height])\n",
    "ax2.set_yticks(ax2.get_yticks(), minor=True)\n",
    "#ax2.grid(b=True, which='minor')\n",
    "ax2.set_xticks([-90,0,90])\n",
    "#ax2.axis.xticks.params(labelsize=12)\n",
    "ax2.plot(lats, T_034_10_boltz, '-', color='green', label='$P=0.34 \\, W/m^2$')\n",
    "ax2.plot(lats, T_0034_10_boltz, ':', color='green', label='$P=0.034\\, W/m^2$')\n",
    "ax2.minorticks_on()\n",
    "ax2.grid(b=True, which='major')\n",
    "ax2.grid(b=True, which='minor', alpha=0.4)\n",
    "ax2.set_ylabel(\"$T\\, [K]$\", rotation=360)\n",
    "ax2.yaxis.set_label_coords(-0.025, 1.025)\n",
    "ax2.tick_params(axis='both', labelsize=19)\n",
    "ax2.legend(fontsize=17, loc=(0.65, 0.85))\n",
    "ax.grid()\n",
    "ax.legend()\n",
    "ax.set_title(\"Temperature change over latitudes due to $P_{hum}=0.34\\, W/m^2$ ($G_F$)\")#+'\\n'+\"for different EBM-1D model settings\")\n",
    "print(area_mean(T_034_10_LM-T_0034_10_LM))\n",
    "plt.tight_layout()\n",
    "ax.arrow(-27,0.7, 39-(-27),0.5-0.7 , head_width=0.05, head_length=2,color='green')\n",
    "plt.savefig(\"delT(theta)_Tf-10_different_models_Presentation.png\")"
   ]
  },
  {
   "cell_type": "markdown",
   "metadata": {},
   "source": [
    "# Plot Temperature profile over observed data from NCEP (see Brian Rose Lecture)\n"
   ]
  },
  {
   "cell_type": "code",
   "execution_count": null,
   "metadata": {},
   "outputs": [],
   "source": [
    "#  daily surface temperature from  NCEP reanalysis\n",
    "#(see Lecture 14 in BRIAN ROSE)\n",
    "import xarray as xr\n",
    "ncep_url = \"http://www.esrl.noaa.gov/psd/thredds/dodsC/Datasets/ncep.reanalysis.derived/\"\n",
    "ncep_temp = xr.open_dataset( ncep_url + \"surface_gauss/skt.sfc.day.1981-2010.ltm.nc\", decode_times=False)\n",
    "ncep_temp_zon = ncep_temp.skt.mean(dim='lon')\n",
    "#ncep_temp_zon.mean(dim='time')"
   ]
  },
  {
   "cell_type": "code",
   "execution_count": null,
   "metadata": {},
   "outputs": [],
   "source": [
    "#fig=plt.figure(figsize=(8,5))\n",
    "#ax=fig.add_subplot(111)\n",
    "#ax.plot(ncep_temp_zon.lat, ncep_temp_zon.mean(dim='time'), label='NCEP Daily Temp '+\n",
    "#         '\\n'+'(latitudinal mean)'+'\\n'+'avg. from 1981-2010', lw=3)\n",
    "#ax.plot(lats, T_0034_10_georg, '-.r', label='(LG),     $D=0.42$, $T_f=-10^\\circ C$', lw=2)\n",
    "#ax.plot(lats, T_0034_10_smallD_G, '--y', label='(LGsD), $D=0.34$, $T_f=-10^\\circ C$', lw=2)\n",
    "#ax.set_xlabel(\"Latitudes in degrees\")\n",
    "#ax.set_xticks([-90,0,90])\n",
    "#ax.set_xlim(-90,90)\n",
    "#ax.tick_params(axis = 'x', which = 'minor', labelsize = 0)\n",
    "#ax.set_xticks([-60,-30,30,60], minor=True)\n",
    "#ax.minorticks_on()\n",
    "#ax.set_ylabel(\"$T(\\phi)\\, [K]$\")\n",
    "#ax.grid(True, which='both')\n",
    "#ax.legend(fontsize=15)\n",
    "#fig.tight_layout()\n",
    "#plt.savefig(\"T(phi)_Ncep_differentD.png\")\n"
   ]
  },
  {
   "cell_type": "markdown",
   "metadata": {},
   "source": [
    "# Reproduce this average from ncep!"
   ]
  },
  {
   "cell_type": "markdown",
   "metadata": {},
   "source": [
    "\"http://www.esrl.noaa.gov/psd/thredds/dodsC/Datasets/ncep.reanalysis.derived/\"\n",
    "https://www.esrl.noaa.gov/psd/thredds/catalog/Datasets/ncep.reanalysis2.dailyavgs/gaussian_grid/catalog.html?dataset=Datasets/ncep.reanalysis2.dailyavgs/gaussian_grid/skt.sfc.gauss.1979.nc\n",
    "ftp://ftp.cdc.noaa.gov/Datasets/ncep.reanalysis2.dailyavgs/gaussian_grid/skt.sfc.gauss.1979.nc"
   ]
  },
  {
   "cell_type": "code",
   "execution_count": null,
   "metadata": {},
   "outputs": [],
   "source": [
    "#url=\"https://www.esrl.noaa.gov/psd/thredds/catalog/Datasets/ncep.reanalysis2.dailyavgs/gaussian_grid/catalog.html?dataset=Datasets/ncep.reanalysis2.dailyavgs/gaussian_grid/skt.sfc.gauss.1979.nc\"\n",
    "url=\"https://www.esrl.noaa.gov/psd/thredds/dodsC/Datasets/ncep.reanalysis2.dailyavgs/gaussian_grid/skt.sfc.gauss.1988.nc\"\n",
    "data=xr.open_dataset(url, decode_times=False,decode_cf=False)"
   ]
  },
  {
   "cell_type": "code",
   "execution_count": null,
   "metadata": {},
   "outputs": [],
   "source": [
    "#data2=data.mean(dim='lon')\n",
    "#data3=data2.mean(dim='time')\n",
    "data4=data.mean(dim=('lon', 'time'))"
   ]
  },
  {
   "cell_type": "code",
   "execution_count": null,
   "metadata": {},
   "outputs": [],
   "source": [
    "#unpacked value = add_offset + ( (packed value) * scale_factor ) \n",
    "temp=data4.skt*data.skt.scale_factor + data.skt.add_offset"
   ]
  },
  {
   "cell_type": "markdown",
   "metadata": {},
   "source": [
    "#### Air 2m temperature and compare with skt"
   ]
  },
  {
   "cell_type": "code",
   "execution_count": null,
   "metadata": {},
   "outputs": [],
   "source": [
    "url4=\"https://www.esrl.noaa.gov/psd/thredds/dodsC/Datasets/ncep.reanalysis2/gaussian_grid/air.2m.gauss.1988.nc\"\n",
    "#/psd/thredds/dodsC/Datasets/ncep.reanalysis2/gaussian_grid/air.2m.gauss.1979.nc\n",
    "data2m=xr.open_dataset(url4, decode_times=False,decode_cf=False)\n",
    "data2m2=data2m.mean(dim='time')\n",
    "data2m3=data2m2.mean(dim='lon')"
   ]
  },
  {
   "cell_type": "code",
   "execution_count": null,
   "metadata": {},
   "outputs": [],
   "source": [
    "temp2=data2m3.air[0]*data2m.air.scale_factor + data2m.air.add_offset\n",
    "plt.plot(data2m3.lat, temp2)#data2m3.air[0])\n",
    "plt.plot(data4.lat, temp)#data2m3.air[0])"
   ]
  },
  {
   "cell_type": "markdown",
   "metadata": {},
   "source": [
    "### automatise (DONE ONCE,  now load from FILE)"
   ]
  },
  {
   "cell_type": "code",
   "execution_count": null,
   "metadata": {},
   "outputs": [],
   "source": [
    "#years=np.arange(1979, 2018, step=1)\n",
    "#print(years)\n",
    "#filler=np.zeros([len(years), len(data.lat.values)])\n",
    "#T=xr.DataArray(filler,\n",
    "#               coords={'time': years, 'lat':data.lat}, #data.lat.values\n",
    "#               dims=('time', 'lat'))\n",
    "#url_pre=\"https://www.esrl.noaa.gov/psd/thredds/dodsC/Datasets/ncep.reanalysis2.dailyavgs/gaussian_grid/\"\n",
    "#for year in years:\n",
    "#    print(str(year)+', ', end='')\n",
    "#    url=\"skt.sfc.gauss.\"+str(year)+\".nc\"\n",
    "#    data=xr.open_dataset(url_pre+url, decode_times=False,decode_cf=False)\n",
    "#    mean_data=data.skt.mean(dim=('lon', 'time'))\n",
    "#    mean_T=mean_data*data.skt.scale_factor + data.skt.add_offset\n",
    "#    T.sel(time=year)[:]=mean_T\n",
    "#T.to_netcdf(\"Tskt(lat)_1979-2017_ncep.nc\")"
   ]
  },
  {
   "cell_type": "code",
   "execution_count": null,
   "metadata": {},
   "outputs": [],
   "source": [
    "T=xr.open_dataset(\"Tskt(lat)_1979-2017_ncep.nc\")\n",
    "plt.figure(figsize=(8,5))\n",
    "for year in T.time:\n",
    "    plt.plot(T.lat, T.sel(time=year).__xarray_dataarray_variable__, ':r', alpha=0.4)\n",
    "#plt.plot(ncep_temp_zon.lat, ncep_temp_zon.mean(dim='time'), '--g', label='NCEP Daily Temp '+\n",
    "#         '\\n'+'(latitudinal mean)'+'\\n'+'avg. from 1981-2010', lw=2)\n",
    "meanT=T.__xarray_dataarray_variable__.mean(dim='time')\n",
    "#plt.plot(T.lat, meanT, '-b', lw=3 )\n"
   ]
  },
  {
   "cell_type": "code",
   "execution_count": null,
   "metadata": {},
   "outputs": [],
   "source": [
    "fig=plt.figure(figsize=(16,5))\n",
    "ax=fig.add_subplot(111)\n",
    "ax.plot(T.lat, meanT, '-b', label='NCEP-DOE Reanalysis 2'+\n",
    "        '\\n'+r\"Daily $T(\\theta)$\"+'\\n'+'averaged from 1979-2017', lw=3)\n",
    "ax.plot(lats, T_0034_10_LM, '-.r', label='(LMD),  $D=0.418$, $T_f=-10^\\circ {\\rm C}$', lw=2)\n",
    "ax.plot(lats, T_0034_10_smallD_G, '--y', label='(LMsD), $D=0.395$, $T_f=-10^\\circ {\\rm C}$', lw=2)\n",
    "ax.set_xlabel(r\"Latitudes $\\theta$ in $^\\circ$\")\n",
    "ax.set_xticks([-90,0,90])\n",
    "ax.set_xlim(-90,90)\n",
    "ax.tick_params(axis = 'both', which = 'major', labelsize = 18)\n",
    "ax.tick_params(axis = 'x', which = 'minor', labelsize = 0)\n",
    "ax.set_xticks([-60,-30,30,60], minor=True)\n",
    "ax.minorticks_on()\n",
    "ax.set_ylabel(r\"$T(\\theta)\\, [{\\rm K}]$\")\n",
    "ax.grid(True, which='both')\n",
    "ax.legend(fontsize=18)\n",
    "fig.tight_layout()\n",
    "plt.savefig(\"T(theta)_Ncep_differentD.png\")"
   ]
  },
  {
   "cell_type": "code",
   "execution_count": null,
   "metadata": {},
   "outputs": [],
   "source": []
  },
  {
   "cell_type": "code",
   "execution_count": null,
   "metadata": {},
   "outputs": [],
   "source": []
  },
  {
   "cell_type": "code",
   "execution_count": null,
   "metadata": {},
   "outputs": [],
   "source": []
  }
 ],
 "metadata": {
  "kernelspec": {
   "display_name": "Python 2",
   "language": "python",
   "name": "python2"
  },
  "language_info": {
   "codemirror_mode": {
    "name": "ipython",
    "version": 3
   },
   "file_extension": ".py",
   "mimetype": "text/x-python",
   "name": "python",
   "nbconvert_exporter": "python",
   "pygments_lexer": "ipython3",
   "version": "3.6.6"
  },
  "latex_envs": {
   "LaTeX_envs_menu_present": true,
   "autoclose": false,
   "autocomplete": true,
   "bibliofile": "biblio.bib",
   "cite_by": "apalike",
   "current_citInitial": 1,
   "eqLabelWithNumbers": true,
   "eqNumInitial": 1,
   "hotkeys": {
    "equation": "Ctrl-E",
    "itemize": "Ctrl-I"
   },
   "labels_anchors": false,
   "latex_user_defs": false,
   "report_style_numbering": false,
   "user_envs_cfg": false
  },
  "toc": {
   "base_numbering": 1,
   "nav_menu": {},
   "number_sections": true,
   "sideBar": true,
   "skip_h1_title": false,
   "title_cell": "Table of Contents",
   "title_sidebar": "Contents",
   "toc_cell": false,
   "toc_position": {},
   "toc_section_display": true,
   "toc_window_display": false
  },
  "varInspector": {
   "cols": {
    "lenName": 16,
    "lenType": 16,
    "lenVar": 40
   },
   "kernels_config": {
    "python": {
     "delete_cmd_postfix": "",
     "delete_cmd_prefix": "del ",
     "library": "var_list.py",
     "varRefreshCmd": "print(var_dic_list())"
    },
    "r": {
     "delete_cmd_postfix": ") ",
     "delete_cmd_prefix": "rm(",
     "library": "var_list.r",
     "varRefreshCmd": "cat(var_dic_list()) "
    }
   },
   "types_to_exclude": [
    "module",
    "function",
    "builtin_function_or_method",
    "instance",
    "_Feature"
   ],
   "window_display": false
  }
 },
 "nbformat": 4,
 "nbformat_minor": 2
}
