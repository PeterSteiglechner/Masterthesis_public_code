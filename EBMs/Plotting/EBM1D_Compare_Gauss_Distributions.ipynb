{
 "cells": [
  {
   "cell_type": "markdown",
   "metadata": {},
   "source": [
    "# TL;DR:\n",
    "This notebook compares the previously used gaussian distribution of P_hum on latitudes with the AHF data used in \n",
    "\n",
    "1. Flanner2009 via Energy_Consumption * population\n",
    "2. Chen2016 Nighttime_light \n",
    "\n",
    "Then the gaussian distribution is adjusted to match better with Flanner's Data (Disclaimer: No statistical method/analysis, just visually)\n",
    "\n",
    "Result: Both data sets inhibit more AHF in equator near latitudes (especially in the nighttime_lights data). "
   ]
  },
  {
   "cell_type": "markdown",
   "metadata": {},
   "source": [
    "### EDIT 25.1.\n",
    "FITTED GAUSS IN CHAPTER IMPROVE GAUSS"
   ]
  },
  {
   "cell_type": "code",
   "execution_count": null,
   "metadata": {},
   "outputs": [],
   "source": [
    "import xarray as xr\n",
    "import numpy as np\n",
    "import matplotlib.pyplot as plt\n",
    "%matplotlib inline\n",
    "fs=20 #fontsize for labels, legend, ...\\n\",\n",
    "font={'family' : 'serif', 'size' : fs} #define font for legend\\n\",\n",
    "plt.rc('font', **font)"
   ]
  },
  {
   "cell_type": "code",
   "execution_count": null,
   "metadata": {},
   "outputs": [],
   "source": [
    "def area_mean(_lats, x):\n",
    "    weights=np.cos(_lats*np.pi/180)\n",
    "    return sum(weights*x)/sum(weights)"
   ]
  },
  {
   "cell_type": "markdown",
   "metadata": {},
   "source": [
    "# Flanner 2009"
   ]
  },
  {
   "cell_type": "markdown",
   "metadata": {},
   "source": [
    "### Load P-hum Data from Flanner 2009 \n",
    "http://www.cgd.ucar.edu/tss/ahf/data/\n",
    "\n",
    "- grid: 0.5x0.5 degrees for lat=[-90..90], lon=[-180, 180]\n",
    "- AHF (lat, lon)= Energy_consumption_in_country * population(lat,lon)\n",
    "- Time Evolution: 2005 -> 2040: EIA estimates for Energy consumption (and population? TODO); afterwards 2% growth"
   ]
  },
  {
   "cell_type": "code",
   "execution_count": null,
   "metadata": {},
   "outputs": [],
   "source": [
    "#data=xr.open_dataset(\"AHF_2005-2040_0.5x0.5.nc\")\n",
    "data=xr.open_dataset(\"/path_to_file/AHF_2005-2040_0.5x0.5.nc\")\n",
    "##########################################################\n",
    "####   THIS FILE IS FROM FLANNER2009   ###################\n",
    "##########################################################"
   ]
  },
  {
   "cell_type": "markdown",
   "metadata": {},
   "source": [
    "### Gauss Verteilung von P_hum used in previous plots"
   ]
  },
  {
   "cell_type": "code",
   "execution_count": null,
   "metadata": {},
   "outputs": [],
   "source": [
    "gauss_breite=15\n",
    "mlat=45\n",
    "P_glob=0.034\n",
    "a=P_glob*sum(np.cos(data.lat*np.pi/180)) / (sum(np.cos(data.lat*np.pi/180)* np.exp(-1./(2*gauss_breite**2) * (data.lat-mlat)**2)))\n",
    "P_hum_dist=a*np.exp(-1./(2*gauss_breite**2) * (data.lat-mlat)**2)\n",
    "test_P_glob=area_mean(data.lat, P_hum_dist)"
   ]
  },
  {
   "cell_type": "markdown",
   "metadata": {},
   "source": [
    "### Average the longitude values "
   ]
  },
  {
   "cell_type": "code",
   "execution_count": null,
   "metadata": {},
   "outputs": [],
   "source": [
    "data_lat=data.variables['AHF'].mean(dim='lon')"
   ]
  },
  {
   "cell_type": "markdown",
   "metadata": {},
   "source": [
    "### Then average over the latitudes (including weights)  to get glob averages $\\overline{AHF}(t)$"
   ]
  },
  {
   "cell_type": "code",
   "execution_count": null,
   "metadata": {},
   "outputs": [],
   "source": [
    "glob_mean_AHF=np.zeros([len(data.time)])\n",
    "for i in range(0,len(data.time)):\n",
    "    glob_mean_AHF[i]=area_mean(data.lat, data_lat[i,:])"
   ]
  },
  {
   "cell_type": "code",
   "execution_count": null,
   "metadata": {},
   "outputs": [],
   "source": [
    "fig=plt.figure(figsize=(16,5))\n",
    "ax=fig.add_subplot(121)\n",
    "ax2=fig.add_subplot(122)\n",
    "ax2.plot(data.lat, data_lat[10,:], label='Flanner: year 2015, P_glob_Flanner='+'%.3f' % glob_mean_AHF[10])\n",
    "ax2.plot(data.lat, data_lat[-1,:], label='Flanner: year 2040, P_glob_Flanner='+'%.3f' % glob_mean_AHF[-1])\n",
    "years=np.linspace(2005, 2040, num=36)\n",
    "ax.plot(years, glob_mean_AHF, '-g', label='Flanner: EIA projection')\n",
    "ax.plot(years[10:], [0.034*1.02**i for i in range(0,len(years[10:]))] , '--g', label='2% growth/a')\n",
    "ax.legend()\n",
    "ax.set_xlabel(\"years\")\n",
    "ax.set_ylabel(\"P_hum (glob mean) W/m^2\")\n",
    "ax2.set_xlabel(\"lats\")\n",
    "ax2.set_ylabel(\"P_hum (lon mean) W/m^2\")\n",
    "ax2.plot(data.lat, P_hum_dist, '--k', lw=2, label='Gauss with P_glob=0.034')\n",
    "ax2.legend()"
   ]
  },
  {
   "cell_type": "markdown",
   "metadata": {},
   "source": [
    "## Improve Gauss"
   ]
  },
  {
   "cell_type": "markdown",
   "metadata": {},
   "source": [
    "### Brute Force"
   ]
  },
  {
   "cell_type": "code",
   "execution_count": null,
   "metadata": {},
   "outputs": [],
   "source": [
    "gauss_breite=10\n",
    "P_glob=0.034\n",
    "mlat=38\n",
    "a=P_glob*sum(np.cos(data.lat*np.pi/180)) / (sum(np.cos(data.lat*np.pi/180)* np.exp(-1./(2*gauss_breite**2) * (data.lat-mlat)**2)))\n",
    "P_hum_dist=a*np.exp(-1./(2*gauss_breite**2) * (data.lat-mlat)**2)\n",
    "test_P_glob=area_mean(data.lat, P_hum_dist)"
   ]
  },
  {
   "cell_type": "code",
   "execution_count": null,
   "metadata": {},
   "outputs": [],
   "source": [
    "fig=plt.figure(figsize=(16,4))\n",
    "ax=fig.add_subplot(111)\n",
    "ax.plot(data.lat, data_lat[10,:], label='Flanner: year 2015, P_glob_Flanner='+'%.3f' % glob_mean_AHF[10])\n",
    "ax.plot(data.lat, P_hum_dist, '--k', lw=2, label='Gauss with P_glob=0.034')\n"
   ]
  },
  {
   "cell_type": "markdown",
   "metadata": {},
   "source": [
    "### Attempt to make the comparison easier: Cut-Off high frequencies --> smooth Flanner curve"
   ]
  },
  {
   "cell_type": "code",
   "execution_count": null,
   "metadata": {},
   "outputs": [],
   "source": [
    "import scipy.fftpack"
   ]
  },
  {
   "cell_type": "code",
   "execution_count": null,
   "metadata": {},
   "outputs": [],
   "source": [
    "w = scipy.fftpack.rfft(data_lat[10,:])\n",
    "cutoff_idx = np.linspace(0,len(w), num=len(w)) >40 #40 is random\n",
    "w2=w.copy()\n",
    "w2[cutoff_idx]=0\n",
    "plt.plot(w, '-b', label='more Frequencies used for detailed plots above')\n",
    "plt.plot(w2, '-y', label='fewer Frequencies used for plot below')\n",
    "plt.legend()"
   ]
  },
  {
   "cell_type": "code",
   "execution_count": null,
   "metadata": {},
   "outputs": [],
   "source": [
    "data_new=scipy.fftpack.irfft(w2)\n",
    "print(area_mean(data.lat, data_new))\n",
    "plt.figure(figsize=(16,4))\n",
    "plt.plot(data.lat, data_new, label='Flanner smoothed: P_glob='+'%.3f' % area_mean(data.lat, data_new))\n",
    "plt.plot(data.lat, P_hum_dist, '--k', lw=2, label='Gauss with P_glob=0.034')\n",
    "plt.legend()"
   ]
  },
  {
   "cell_type": "markdown",
   "metadata": {},
   "source": [
    "## Fazit:\n",
    "\n",
    "Nach Anpassung der Mittel-Latitude von 45 zu 40 Grad und der Gauss Breite von 15 zu 10 Grad, wird der Peak gut abgebildet.\n",
    "\n",
    "Nicht berücksichtigt sind AHF-Beiträge von Längengräden um den Äquator. \n",
    "\n"
   ]
  },
  {
   "cell_type": "markdown",
   "metadata": {},
   "source": [
    "## FIT GAUSS"
   ]
  },
  {
   "cell_type": "code",
   "execution_count": null,
   "metadata": {},
   "outputs": [],
   "source": [
    "import scipy.optimize as opt\n",
    "def f(phi, a, b, c):\n",
    "    return a*np.exp(-(phi-b)**2/c**2)\n",
    "popt2015, pcov2015=opt.curve_fit(f,data.lat,data_lat[10,:], bounds=([0,25, 1], [2, 60, 100]))\n",
    "print(popt2015)\n",
    "plt.plot(data.lat, data_lat[10,:])\n",
    "plt.plot(data.lat, f(data.lat, *popt2015), '--r')\n",
    "### normalize to get P_glob:\n",
    "fit=f(data.lat, *popt2015)\n",
    "fit_glob=area_mean(data.lat, fit)\n",
    "fit_normalized=P_glob/fit_glob*fit\n",
    "plt.plot(data.lat, fit_normalized, '-g')"
   ]
  },
  {
   "cell_type": "code",
   "execution_count": null,
   "metadata": {},
   "outputs": [],
   "source": [
    "popt2040, pcov2040=opt.curve_fit(f,data.lat,data_lat[-1,:], bounds=([0,25, 1], [2, 60, 100]))\n",
    "print(popt2040)\n",
    "ax=plt.figure().add_subplot(111)\n",
    "ax2=ax.twinx()\n",
    "ax.plot(data.lat, data_lat[-1,:])\n",
    "fit2040=f(data.lat, *popt2040)\n",
    "fit_glob40=area_mean(data.lat, fit2040)\n",
    "fit_normalized2040=P_glob/fit_glob40*fit2040\n",
    "ax.plot(data.lat, 1.02**25 * fit_normalized2040, '-m')\n",
    "ax.plot(data.lat, fit_normalized, '--c')\n",
    "ax2.plot(data.lat, fit_normalized2040-fit_normalized, '--k')\n",
    "### normalize to get P_glob:\n",
    "fit=f(data.lat, *popt2040)"
   ]
  },
  {
   "cell_type": "code",
   "execution_count": null,
   "metadata": {},
   "outputs": [],
   "source": [
    "y=P_glob/fit_glob*f(data.lat, *popt2015)\n",
    "p,c=opt.curve_fit(f, data.lat, y)\n",
    "plt.plot(data.lat, y)\n",
    "plt.plot(data.lat, f(data.lat, *p))\n",
    "print(p)"
   ]
  },
  {
   "cell_type": "markdown",
   "metadata": {},
   "source": [
    "## Small Problem:\n",
    "expected growth (up to 2040) especially at 25N "
   ]
  },
  {
   "cell_type": "code",
   "execution_count": null,
   "metadata": {},
   "outputs": [],
   "source": [
    "w = scipy.fftpack.rfft(data_lat[-1,:])\n",
    "cutoff_idx = np.linspace(0,len(w), num=len(w)) >40 #40 is random\n",
    "w2=w.copy()\n",
    "w2[cutoff_idx]=0\n",
    "data_new_2040=scipy.fftpack.irfft(w2)"
   ]
  },
  {
   "cell_type": "code",
   "execution_count": null,
   "metadata": {},
   "outputs": [],
   "source": [
    "print(\"P_hum_glob in 2040: \", area_mean(data.lat, data_new_2040))\n",
    "plt.figure(figsize=(16,4))\n",
    "plt.plot(data.lat, data_new, label='Flanner smoothed: P_glob='+'%.3f' % area_mean(data.lat, data_new))\n",
    "plt.plot(data.lat, data_new_2040, label='Flanner 2040 smoothed: P_glob ='+'%.3f' % area_mean(data.lat, data_new_2040))\n",
    "plt.plot(data.lat, P_hum_dist*1.02**25, '--k', lw=2, label='Gauss 2040 with P_glob='+'%.3f' % area_mean(data.lat, P_hum_dist*1.02**25))\n",
    "plt.legend()"
   ]
  },
  {
   "cell_type": "markdown",
   "metadata": {
    "collapsed": true
   },
   "source": [
    "# Chen2016"
   ]
  },
  {
   "cell_type": "code",
   "execution_count": null,
   "metadata": {},
   "outputs": [],
   "source": [
    "import tifffile as tif"
   ]
  },
  {
   "cell_type": "markdown",
   "metadata": {},
   "source": [
    "Data for 2010 nighttime light of satelite Nr. 18:\n",
    "- cloud free\n",
    "- fire light removed\n",
    "- background removed\n",
    "- grid: 30 arc sec for lat=[-65..75], lon=[-180..180]\n",
    "\n",
    "Note: Some locations have only few cloud-free nights and hence less available data."
   ]
  },
  {
   "cell_type": "code",
   "execution_count": null,
   "metadata": {},
   "outputs": [],
   "source": [
    "#image=tif.imread(\"F182010.v4d_web.stable_lights.avg_vis.tif\")\n",
    "image=tif.imread(\"/home/peter/PIK_LargeData/F182010.v4d_web.stable_lights.avg_vis.tif\")"
   ]
  },
  {
   "cell_type": "code",
   "execution_count": null,
   "metadata": {},
   "outputs": [],
   "source": [
    "print(\"latitude=(65+75)degrees=140*3600/30 pixel_for_30_arcsec=16800 pixel\")\n",
    "print(\"longitude=(180*2)degrees=360*3600/30 pixel_for_30_arcsec=43200 pixel\")\n",
    "print(np.shape(image))"
   ]
  },
  {
   "cell_type": "markdown",
   "metadata": {},
   "source": [
    "### Take the average over all longitudes"
   ]
  },
  {
   "cell_type": "code",
   "execution_count": null,
   "metadata": {},
   "outputs": [],
   "source": [
    "lats=np.linspace(-65, 75, num=len(image[:,0]))\n",
    "image_lats=0*lats\n",
    "for i in range(0,len(image_lats)):\n",
    "    image_lats[-i]=np.mean(image[i,:]) ## Note: the light-data starts at North Pole (i guess), hence image_lats[-i]\n",
    "plt.plot(lats, image_lats)"
   ]
  },
  {
   "cell_type": "code",
   "execution_count": null,
   "metadata": {},
   "outputs": [],
   "source": [
    "#Plot the maximum values in each latitude band\n",
    "#lats=np.linspace(-65, 75, num=16801)\n",
    "#image_max=0*image[:,0]\n",
    "#for i in range(0,len(image_lats)):\n",
    "#    image_max[i]=max(image[:,i])\n",
    "#plt.plot(lats, image_max)\n",
    "#plt.title(\"Max value of image (=63) for each latitude\")"
   ]
  },
  {
   "cell_type": "markdown",
   "metadata": {},
   "source": [
    "### Add and insert light=0 for the rest of the lats."
   ]
  },
  {
   "cell_type": "code",
   "execution_count": null,
   "metadata": {},
   "outputs": [],
   "source": [
    "nighttime_lights_short=np.array(image_lats)\n",
    "south_extension=np.array([0. for s in range(0,120) for deg in range(-90, -65)])\n",
    "north_extension=np.array([0. for s in range(0,120) for deg in range(75, 90)])\n",
    "print('Test of dimensions:', np.shape(south_extension), '+', np.shape(nighttime_lights_short),\n",
    "      '+',np.shape(north_extension),  \"=??= 180*120 = 21600\")\n",
    "nighttime_lights=np.concatenate((south_extension,nighttime_lights_short))\n",
    "nighttime_lights=np.concatenate((nighttime_lights,north_extension))\n",
    "lats_light=np.linspace(-90, 90, num=len(nighttime_lights))"
   ]
  },
  {
   "cell_type": "markdown",
   "metadata": {},
   "source": [
    "### normalize to 0.034 W/m² "
   ]
  },
  {
   "cell_type": "code",
   "execution_count": null,
   "metadata": {},
   "outputs": [],
   "source": [
    "P_glob=0.034\n",
    "tot_light=area_mean(lats_light, nighttime_lights)\n",
    "rel_lights=nighttime_lights/tot_light\n",
    "P_lights=P_glob*rel_lights"
   ]
  },
  {
   "cell_type": "code",
   "execution_count": null,
   "metadata": {},
   "outputs": [],
   "source": [
    "plt.plot(lats_light, P_lights, '-y', label='P_hum_lights [W/m^2]')\n",
    "plt.legend()"
   ]
  },
  {
   "cell_type": "code",
   "execution_count": null,
   "metadata": {},
   "outputs": [],
   "source": [
    "fig=plt.figure(figsize=(16,9))\n",
    "ax=fig.add_subplot(111)\n",
    "ax.plot(data.lat, data_lat[10,:], '-r',  label='Flanner: year 2015, P_glob_Flanner='+'%.3f' % area_mean(data.lat, data_lat[10,:]))\n",
    "ax.plot(lats_light, P_lights, '-y' , label=\"Chen(1 yr and 1 satelite only): nighttime lights normalized to P_glob=\"+'%.3f' % area_mean(lats_light, P_lights))\n",
    "ax.set_xlabel(\"lats\")\n",
    "ax.set_ylabel(\"P_hum (lon mean) W/m^2\")\n",
    "ax.plot(data.lat, P_hum_dist, '--k', lw=2, label='Gauss with P_glob='+'%.3f' % area_mean(data.lat, P_hum_dist))\n",
    "ax.legend()"
   ]
  },
  {
   "cell_type": "markdown",
   "metadata": {
    "collapsed": true
   },
   "source": [
    "# Fazit\n",
    "\n",
    "### In the longitudinal mean, nighttime light data in Chen and Flanners Energy consumption (weighted by population denisty) inhibit the same features and yield the same distribution with only tiny deviations. The Gauss distribution (after adjusting the center and width) can roughly reproduce the distribution with certain flaws in (1) the time evolution, (2) underrepresentation of Equator regions and (3) missing minor peaks (e.g.55N).\n",
    "\n",
    "### For high latitudes the light data might be exaggerated since people might install more light sources to compensate for the missing daylight in winter time."
   ]
  },
  {
   "cell_type": "markdown",
   "metadata": {
    "collapsed": true
   },
   "source": [
    "### FIT GAUSS TO CHEN"
   ]
  },
  {
   "cell_type": "code",
   "execution_count": null,
   "metadata": {},
   "outputs": [],
   "source": [
    "fs=19    #fontsize for labels, legend, ...\\n\",\n",
    "font={'family' : 'serif', 'size' : fs}  #define font for legend\\n\",\n",
    "plt.rc('font', **font)"
   ]
  },
  {
   "cell_type": "code",
   "execution_count": null,
   "metadata": {},
   "outputs": [],
   "source": [
    "import scipy.optimize as opt\n",
    "def f(phi, a, b, c):\n",
    "    return a*np.exp(-(phi-b)**2/c**2)\n",
    "poptchen, pcovchen=opt.curve_fit(f,lats_light,P_lights, bounds=([0,25, 1], [2, 60, 100]))\n",
    "print(popt2015)\n",
    "print(poptchen)\n",
    "#plt.plot(lats_light, P_lights)\n",
    "### normalize to get P_glob:\n",
    "fit_chen=f(lats_light, *poptchen)\n",
    "fit_glob_chen=area_mean(lats_light, fit_chen)\n",
    "fit_n_chen=P_glob/fit_glob_chen*fit_chen\n",
    "#plt.plot(data.lat, fit_normalized, '-g')\n",
    "#plt.plot(lats_light, fit_n_chen, '--r')\n",
    "\n",
    "fig=plt.figure(figsize=(16,8))\n",
    "#plt.yticks([])\n",
    "#plt.xticks([])\n",
    "ax0=fig.add_subplot(111)\n",
    "ax0.spines['top'].set_color('none')\n",
    "ax0.spines['bottom'].set_color('none')\n",
    "ax0.spines['left'].set_color('none')\n",
    "ax0.spines['right'].set_color('none')\n",
    "ax0.tick_params(labelcolor='w', top='off', bottom='off', left='off', right='off')\n",
    "\n",
    "ax=fig.add_subplot(211)\n",
    "ax2=fig.add_subplot(212, sharex=ax, sharey=ax)\n",
    "ax.set_xlim(-90, 90)\n",
    "ax.plot(data.lat, data_lat[10,:], '-r',  \n",
    "        label=r'Flanner (2009): $\\overline{P_{\\rm hum}}=$'+'%.3f' % area_mean(data.lat, data_lat[10,:])\n",
    "        +r'$\\, \\frac{ \\rm W}{\\rm m^2}$')\n",
    "ax2.plot(lats_light, P_lights, '-y' , \n",
    "         label=r\"Chen et al. (2016): Nighttime lights normalized to $\\overline{P_{\\rm hum}}=$\"+\n",
    "         '%.3f' % area_mean(lats_light, P_lights)+r'$\\, \\frac{\\rm W}{ \\rm m^2}$')\n",
    "plt.setp(ax.get_xticklabels(), visible=False)\n",
    "ax2.annotate(r\"(One year (2010) \"+'\\n'+\"one satelite only)\", xy=(-80,0), xytext=(-80,0.1),\n",
    "             arrowprops={'facecolor':'yellow'}, fontsize=16)\n",
    "ax.plot(data.lat, fit_normalized, '--r', lw=4, label=r'Gauss with $\\overline{P_{\\rm hum}}=$'+'%.3f' \n",
    "        % area_mean(data.lat, P_hum_dist)+r'$\\, \\frac{\\rm W}{\\rm m^2}$'+' fitted to Flanner (2009)')\n",
    "ax2.plot(lats_light, fit_n_chen, '--y', lw=4, label=r'Gauss with $\\overline{P_{\\rm hum}}=$'+'%.3f' \n",
    "         % area_mean(data.lat, P_hum_dist)+r'$\\, \\frac{\\rm W}{\\rm m^2}$'+' fitted to Chen et al. (2016)')\n",
    "ax.legend(fontsize=16, loc='upper left')\n",
    "ax2.legend(fontsize=16, loc='upper left')\n",
    "ax.grid()\n",
    "ax2.grid()\n",
    "ax0.set_xlabel(r\"$\\theta$ - latitudes\")\n",
    "ax0.set_ylabel(r\"$P_{\\rm hum}(\\theta) \\ [{\\rm W/m^2}]$\") #averaged over longitudes)\")\n",
    "\n",
    "gausschen=r\"$0.14\\, \\rm{\\frac{W}{m^2}} \\cdot \\exp{(-\\left(\\frac{\\theta-42.17^\\circ}{18.54^\\circ}\\right)^2)}$\"\n",
    "ax2.annotate(gausschen, xy=(-40,0), xytext=(-40,0.1), arrowprops={'facecolor':'yellow'}, fontsize=23)\n",
    "gaussflanner=r\"$0.16\\, \\rm{\\frac{W}{m^2}} \\cdot \\exp{(-\\left(\\frac{\\theta-39.68^\\circ}{16.64^\\circ}\\right)^2)}$\"\n",
    "ax.annotate(gaussflanner, xy=(-40,0), xytext=(-40,0.1), arrowprops={'facecolor':'red'}, fontsize=23)\n",
    "\n",
    "plt.tight_layout()\n",
    "plt.savefig(\"P_hum_Flanner_Chen.png\")\n"
   ]
  },
  {
   "cell_type": "markdown",
   "metadata": {
    "collapsed": true
   },
   "source": [
    "Result: Chen is a bit more northern and a bit broader..."
   ]
  },
  {
   "cell_type": "code",
   "execution_count": null,
   "metadata": {},
   "outputs": [],
   "source": []
  }
 ],
 "metadata": {
  "kernelspec": {
   "display_name": "Python 2",
   "language": "python",
   "name": "python2"
  },
  "language_info": {
   "codemirror_mode": {
    "name": "ipython",
    "version": 3
   },
   "file_extension": ".py",
   "mimetype": "text/x-python",
   "name": "python",
   "nbconvert_exporter": "python",
   "pygments_lexer": "ipython3",
   "version": "3.6.6"
  },
  "latex_envs": {
   "LaTeX_envs_menu_present": true,
   "autoclose": false,
   "autocomplete": true,
   "bibliofile": "biblio.bib",
   "cite_by": "apalike",
   "current_citInitial": 1,
   "eqLabelWithNumbers": true,
   "eqNumInitial": 1,
   "hotkeys": {
    "equation": "Ctrl-E",
    "itemize": "Ctrl-I"
   },
   "labels_anchors": false,
   "latex_user_defs": false,
   "report_style_numbering": false,
   "user_envs_cfg": false
  },
  "toc": {
   "base_numbering": 1,
   "nav_menu": {},
   "number_sections": true,
   "sideBar": true,
   "skip_h1_title": false,
   "title_cell": "Table of Contents",
   "title_sidebar": "Contents",
   "toc_cell": false,
   "toc_position": {},
   "toc_section_display": true,
   "toc_window_display": false
  },
  "varInspector": {
   "cols": {
    "lenName": 16,
    "lenType": 16,
    "lenVar": 40
   },
   "kernels_config": {
    "python": {
     "delete_cmd_postfix": "",
     "delete_cmd_prefix": "del ",
     "library": "var_list.py",
     "varRefreshCmd": "print(var_dic_list())"
    },
    "r": {
     "delete_cmd_postfix": ") ",
     "delete_cmd_prefix": "rm(",
     "library": "var_list.r",
     "varRefreshCmd": "cat(var_dic_list()) "
    }
   },
   "types_to_exclude": [
    "module",
    "function",
    "builtin_function_or_method",
    "instance",
    "_Feature"
   ],
   "window_display": false
  }
 },
 "nbformat": 4,
 "nbformat_minor": 2
}
